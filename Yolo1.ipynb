{
 "cells": [
  {
   "cell_type": "code",
   "execution_count": 1,
   "id": "9a67e109",
   "metadata": {},
   "outputs": [],
   "source": [
    "import cv2\n",
    "import pandas as pd \n",
    "import numpy as np\n",
    "import matplotlib.pyplot as plt\n",
    "import tensorflow as tf\n",
    "from tensorflow.keras import datasets, layers, models\n",
    "import xml.etree.ElementTree as ET\n",
    "import os\n",
    "import torch\n"
   ]
  },
  {
   "cell_type": "code",
   "execution_count": 2,
   "id": "46010a73",
   "metadata": {},
   "outputs": [],
   "source": [
    "os.chdir(r\"C:\\Users\\Lucas\\Desktop\\vacantion classes\\Yolo project\\classes\")\n",
    "from CNN import CNN_model #import my class CNN"
   ]
  },
  {
   "cell_type": "code",
   "execution_count": 3,
   "id": "3acbe6ec",
   "metadata": {},
   "outputs": [],
   "source": [
    "os.chdir(r\"C:\\Users\\Lucas\\Desktop\\vacantion classes\\Yolo project\\data\\Pascal_VOC\\train\")"
   ]
  },
  {
   "cell_type": "code",
   "execution_count": 4,
   "id": "eb365c33",
   "metadata": {},
   "outputs": [],
   "source": [
    "path = r\"C:\\Users\\Lucas\\Desktop\\vacantion classes\\Yolo project\\data\\Pascal_VOC\\train\"\n",
    "\n",
    "xml_list = []\n",
    "for filename in os.listdir(path):\n",
    "    if not filename.endswith('.xml'): continue\n",
    "    fullname = os.path.join(path, filename)\n",
    "    xml_list.append(fullname)"
   ]
  },
  {
   "cell_type": "code",
   "execution_count": 5,
   "id": "c9c995d3",
   "metadata": {},
   "outputs": [],
   "source": [
    "my_CNN = CNN_model()\n",
    "my_CNN.get_annotation(xml_list)\n",
    "my_CNN.encode_pictures()"
   ]
  },
  {
   "cell_type": "code",
   "execution_count": 6,
   "id": "db6079a6",
   "metadata": {},
   "outputs": [],
   "source": [
    "os.chdir(r\"C:\\Users\\Lucas\\Desktop\\vacantion classes\\Yolo project\")\n",
    "my_CNN.df.to_json(r\"data\\annot_df.json\",orient=\"records\")\n",
    "torch.save(my_CNN.encoded_picture_annot, r\"data\\encoded_picture.pt\")"
   ]
  },
  {
   "cell_type": "code",
   "execution_count": 7,
   "id": "a558a85f",
   "metadata": {},
   "outputs": [
    {
     "data": {
      "text/html": [
       "<div>\n",
       "<style scoped>\n",
       "    .dataframe tbody tr th:only-of-type {\n",
       "        vertical-align: middle;\n",
       "    }\n",
       "\n",
       "    .dataframe tbody tr th {\n",
       "        vertical-align: top;\n",
       "    }\n",
       "\n",
       "    .dataframe thead th {\n",
       "        text-align: right;\n",
       "    }\n",
       "</style>\n",
       "<table border=\"1\" class=\"dataframe\">\n",
       "  <thead>\n",
       "    <tr style=\"text-align: right;\">\n",
       "      <th></th>\n",
       "      <th>file_name</th>\n",
       "      <th>ID_class</th>\n",
       "      <th>x_center</th>\n",
       "      <th>y_center</th>\n",
       "      <th>width</th>\n",
       "      <th>height</th>\n",
       "    </tr>\n",
       "  </thead>\n",
       "  <tbody>\n",
       "    <tr>\n",
       "      <th>0</th>\n",
       "      <td>C:\\Users\\Lucas\\Desktop\\vacantion classes\\Yolo ...</td>\n",
       "      <td>0</td>\n",
       "      <td>0.479000</td>\n",
       "      <td>0.464413</td>\n",
       "      <td>0.542000</td>\n",
       "      <td>0.373665</td>\n",
       "    </tr>\n",
       "    <tr>\n",
       "      <th>1</th>\n",
       "      <td>C:\\Users\\Lucas\\Desktop\\vacantion classes\\Yolo ...</td>\n",
       "      <td>0</td>\n",
       "      <td>0.330000</td>\n",
       "      <td>0.375445</td>\n",
       "      <td>0.128000</td>\n",
       "      <td>0.124555</td>\n",
       "    </tr>\n",
       "    <tr>\n",
       "      <th>2</th>\n",
       "      <td>C:\\Users\\Lucas\\Desktop\\vacantion classes\\Yolo ...</td>\n",
       "      <td>1</td>\n",
       "      <td>0.408000</td>\n",
       "      <td>0.727758</td>\n",
       "      <td>0.036000</td>\n",
       "      <td>0.174377</td>\n",
       "    </tr>\n",
       "    <tr>\n",
       "      <th>3</th>\n",
       "      <td>C:\\Users\\Lucas\\Desktop\\vacantion classes\\Yolo ...</td>\n",
       "      <td>1</td>\n",
       "      <td>0.070000</td>\n",
       "      <td>0.759786</td>\n",
       "      <td>0.036000</td>\n",
       "      <td>0.174377</td>\n",
       "    </tr>\n",
       "    <tr>\n",
       "      <th>4</th>\n",
       "      <td>C:\\Users\\Lucas\\Desktop\\vacantion classes\\Yolo ...</td>\n",
       "      <td>0</td>\n",
       "      <td>0.508000</td>\n",
       "      <td>0.505464</td>\n",
       "      <td>0.980000</td>\n",
       "      <td>0.426230</td>\n",
       "    </tr>\n",
       "    <tr>\n",
       "      <th>...</th>\n",
       "      <td>...</td>\n",
       "      <td>...</td>\n",
       "      <td>...</td>\n",
       "      <td>...</td>\n",
       "      <td>...</td>\n",
       "      <td>...</td>\n",
       "    </tr>\n",
       "    <tr>\n",
       "      <th>31351</th>\n",
       "      <td>C:\\Users\\Lucas\\Desktop\\vacantion classes\\Yolo ...</td>\n",
       "      <td>1</td>\n",
       "      <td>0.740000</td>\n",
       "      <td>0.541333</td>\n",
       "      <td>0.500000</td>\n",
       "      <td>0.917333</td>\n",
       "    </tr>\n",
       "    <tr>\n",
       "      <th>31352</th>\n",
       "      <td>C:\\Users\\Lucas\\Desktop\\vacantion classes\\Yolo ...</td>\n",
       "      <td>1</td>\n",
       "      <td>0.342988</td>\n",
       "      <td>0.635000</td>\n",
       "      <td>0.326220</td>\n",
       "      <td>0.390000</td>\n",
       "    </tr>\n",
       "    <tr>\n",
       "      <th>31353</th>\n",
       "      <td>C:\\Users\\Lucas\\Desktop\\vacantion classes\\Yolo ...</td>\n",
       "      <td>1</td>\n",
       "      <td>0.742378</td>\n",
       "      <td>0.558000</td>\n",
       "      <td>0.149390</td>\n",
       "      <td>0.212000</td>\n",
       "    </tr>\n",
       "    <tr>\n",
       "      <th>31354</th>\n",
       "      <td>C:\\Users\\Lucas\\Desktop\\vacantion classes\\Yolo ...</td>\n",
       "      <td>1</td>\n",
       "      <td>0.512012</td>\n",
       "      <td>0.485000</td>\n",
       "      <td>0.681682</td>\n",
       "      <td>0.618000</td>\n",
       "    </tr>\n",
       "    <tr>\n",
       "      <th>31355</th>\n",
       "      <td>C:\\Users\\Lucas\\Desktop\\vacantion classes\\Yolo ...</td>\n",
       "      <td>1</td>\n",
       "      <td>0.800000</td>\n",
       "      <td>0.574000</td>\n",
       "      <td>0.373333</td>\n",
       "      <td>0.616000</td>\n",
       "    </tr>\n",
       "  </tbody>\n",
       "</table>\n",
       "<p>31356 rows × 6 columns</p>\n",
       "</div>"
      ],
      "text/plain": [
       "                                               file_name  ID_class  x_center  \\\n",
       "0      C:\\Users\\Lucas\\Desktop\\vacantion classes\\Yolo ...         0  0.479000   \n",
       "1      C:\\Users\\Lucas\\Desktop\\vacantion classes\\Yolo ...         0  0.330000   \n",
       "2      C:\\Users\\Lucas\\Desktop\\vacantion classes\\Yolo ...         1  0.408000   \n",
       "3      C:\\Users\\Lucas\\Desktop\\vacantion classes\\Yolo ...         1  0.070000   \n",
       "4      C:\\Users\\Lucas\\Desktop\\vacantion classes\\Yolo ...         0  0.508000   \n",
       "...                                                  ...       ...       ...   \n",
       "31351  C:\\Users\\Lucas\\Desktop\\vacantion classes\\Yolo ...         1  0.740000   \n",
       "31352  C:\\Users\\Lucas\\Desktop\\vacantion classes\\Yolo ...         1  0.342988   \n",
       "31353  C:\\Users\\Lucas\\Desktop\\vacantion classes\\Yolo ...         1  0.742378   \n",
       "31354  C:\\Users\\Lucas\\Desktop\\vacantion classes\\Yolo ...         1  0.512012   \n",
       "31355  C:\\Users\\Lucas\\Desktop\\vacantion classes\\Yolo ...         1  0.800000   \n",
       "\n",
       "       y_center     width    height  \n",
       "0      0.464413  0.542000  0.373665  \n",
       "1      0.375445  0.128000  0.124555  \n",
       "2      0.727758  0.036000  0.174377  \n",
       "3      0.759786  0.036000  0.174377  \n",
       "4      0.505464  0.980000  0.426230  \n",
       "...         ...       ...       ...  \n",
       "31351  0.541333  0.500000  0.917333  \n",
       "31352  0.635000  0.326220  0.390000  \n",
       "31353  0.558000  0.149390  0.212000  \n",
       "31354  0.485000  0.681682  0.618000  \n",
       "31355  0.574000  0.373333  0.616000  \n",
       "\n",
       "[31356 rows x 6 columns]"
      ]
     },
     "execution_count": 7,
     "metadata": {},
     "output_type": "execute_result"
    }
   ],
   "source": [
    "df = pd.read_json(r\"data\\annot_df.json\")\n",
    "df"
   ]
  },
  {
   "cell_type": "code",
   "execution_count": 8,
   "id": "269c2601",
   "metadata": {},
   "outputs": [
    {
     "data": {
      "text/html": [
       "<div>\n",
       "<style scoped>\n",
       "    .dataframe tbody tr th:only-of-type {\n",
       "        vertical-align: middle;\n",
       "    }\n",
       "\n",
       "    .dataframe tbody tr th {\n",
       "        vertical-align: top;\n",
       "    }\n",
       "\n",
       "    .dataframe thead th {\n",
       "        text-align: right;\n",
       "    }\n",
       "</style>\n",
       "<table border=\"1\" class=\"dataframe\">\n",
       "  <thead>\n",
       "    <tr style=\"text-align: right;\">\n",
       "      <th></th>\n",
       "      <th>file_name</th>\n",
       "      <th>encoded_grid</th>\n",
       "    </tr>\n",
       "  </thead>\n",
       "  <tbody>\n",
       "    <tr>\n",
       "      <th>1</th>\n",
       "      <td>C:\\Users\\Lucas\\Desktop\\vacantion classes\\Yolo ...</td>\n",
       "      <td>[[[tensor(0.), tensor(0.), tensor(0.), tensor(...</td>\n",
       "    </tr>\n",
       "    <tr>\n",
       "      <th>2</th>\n",
       "      <td>C:\\Users\\Lucas\\Desktop\\vacantion classes\\Yolo ...</td>\n",
       "      <td>[[[tensor(0.), tensor(0.), tensor(0.), tensor(...</td>\n",
       "    </tr>\n",
       "    <tr>\n",
       "      <th>3</th>\n",
       "      <td>C:\\Users\\Lucas\\Desktop\\vacantion classes\\Yolo ...</td>\n",
       "      <td>[[[tensor(0.), tensor(0.), tensor(0.), tensor(...</td>\n",
       "    </tr>\n",
       "    <tr>\n",
       "      <th>4</th>\n",
       "      <td>C:\\Users\\Lucas\\Desktop\\vacantion classes\\Yolo ...</td>\n",
       "      <td>[[[tensor(0.), tensor(0.), tensor(0.), tensor(...</td>\n",
       "    </tr>\n",
       "    <tr>\n",
       "      <th>5</th>\n",
       "      <td>C:\\Users\\Lucas\\Desktop\\vacantion classes\\Yolo ...</td>\n",
       "      <td>[[[tensor(0.), tensor(0.), tensor(0.), tensor(...</td>\n",
       "    </tr>\n",
       "    <tr>\n",
       "      <th>...</th>\n",
       "      <td>...</td>\n",
       "      <td>...</td>\n",
       "    </tr>\n",
       "    <tr>\n",
       "      <th>13295</th>\n",
       "      <td>C:\\Users\\Lucas\\Desktop\\vacantion classes\\Yolo ...</td>\n",
       "      <td>[[[tensor(0.), tensor(0.), tensor(0.), tensor(...</td>\n",
       "    </tr>\n",
       "    <tr>\n",
       "      <th>13296</th>\n",
       "      <td>C:\\Users\\Lucas\\Desktop\\vacantion classes\\Yolo ...</td>\n",
       "      <td>[[[tensor(0.), tensor(0.), tensor(0.), tensor(...</td>\n",
       "    </tr>\n",
       "    <tr>\n",
       "      <th>13297</th>\n",
       "      <td>C:\\Users\\Lucas\\Desktop\\vacantion classes\\Yolo ...</td>\n",
       "      <td>[[[tensor(0.), tensor(0.), tensor(0.), tensor(...</td>\n",
       "    </tr>\n",
       "    <tr>\n",
       "      <th>13298</th>\n",
       "      <td>C:\\Users\\Lucas\\Desktop\\vacantion classes\\Yolo ...</td>\n",
       "      <td>[[[tensor(0.), tensor(0.), tensor(0.), tensor(...</td>\n",
       "    </tr>\n",
       "    <tr>\n",
       "      <th>13299</th>\n",
       "      <td>C:\\Users\\Lucas\\Desktop\\vacantion classes\\Yolo ...</td>\n",
       "      <td>[[[tensor(0.), tensor(0.), tensor(0.), tensor(...</td>\n",
       "    </tr>\n",
       "  </tbody>\n",
       "</table>\n",
       "<p>13299 rows × 2 columns</p>\n",
       "</div>"
      ],
      "text/plain": [
       "                                               file_name  \\\n",
       "1      C:\\Users\\Lucas\\Desktop\\vacantion classes\\Yolo ...   \n",
       "2      C:\\Users\\Lucas\\Desktop\\vacantion classes\\Yolo ...   \n",
       "3      C:\\Users\\Lucas\\Desktop\\vacantion classes\\Yolo ...   \n",
       "4      C:\\Users\\Lucas\\Desktop\\vacantion classes\\Yolo ...   \n",
       "5      C:\\Users\\Lucas\\Desktop\\vacantion classes\\Yolo ...   \n",
       "...                                                  ...   \n",
       "13295  C:\\Users\\Lucas\\Desktop\\vacantion classes\\Yolo ...   \n",
       "13296  C:\\Users\\Lucas\\Desktop\\vacantion classes\\Yolo ...   \n",
       "13297  C:\\Users\\Lucas\\Desktop\\vacantion classes\\Yolo ...   \n",
       "13298  C:\\Users\\Lucas\\Desktop\\vacantion classes\\Yolo ...   \n",
       "13299  C:\\Users\\Lucas\\Desktop\\vacantion classes\\Yolo ...   \n",
       "\n",
       "                                            encoded_grid  \n",
       "1      [[[tensor(0.), tensor(0.), tensor(0.), tensor(...  \n",
       "2      [[[tensor(0.), tensor(0.), tensor(0.), tensor(...  \n",
       "3      [[[tensor(0.), tensor(0.), tensor(0.), tensor(...  \n",
       "4      [[[tensor(0.), tensor(0.), tensor(0.), tensor(...  \n",
       "5      [[[tensor(0.), tensor(0.), tensor(0.), tensor(...  \n",
       "...                                                  ...  \n",
       "13295  [[[tensor(0.), tensor(0.), tensor(0.), tensor(...  \n",
       "13296  [[[tensor(0.), tensor(0.), tensor(0.), tensor(...  \n",
       "13297  [[[tensor(0.), tensor(0.), tensor(0.), tensor(...  \n",
       "13298  [[[tensor(0.), tensor(0.), tensor(0.), tensor(...  \n",
       "13299  [[[tensor(0.), tensor(0.), tensor(0.), tensor(...  \n",
       "\n",
       "[13299 rows x 2 columns]"
      ]
     },
     "execution_count": 8,
     "metadata": {},
     "output_type": "execute_result"
    }
   ],
   "source": [
    "df_encoded = torch.load(r\"data\\encoded_picture.pt\")\n",
    "df_encoded"
   ]
  },
  {
   "cell_type": "code",
   "execution_count": 9,
   "id": "1c8544e5",
   "metadata": {},
   "outputs": [],
   "source": [
    "def yolo_loss(y_true,y_pred):\n",
    "    return"
   ]
  },
  {
   "cell_type": "code",
   "execution_count": 10,
   "id": "90801736",
   "metadata": {},
   "outputs": [
    {
     "name": "stdout",
     "output_type": "stream",
     "text": [
      "(1000, 448, 448, 3) (1000, 7, 7, 30)\n"
     ]
    }
   ],
   "source": [
    "import cv2\n",
    "import numpy as np\n",
    "import torch\n",
    "\n",
    "S = 7\n",
    "B = 2\n",
    "C = len(my_CNN.classes)  # ton nombre de classes\n",
    "\n",
    "X_train = []\n",
    "Y_train = []\n",
    "\n",
    "for idx, row in my_CNN.encoded_picture_annot.iterrows():\n",
    "    if idx > 1000:\n",
    "        break\n",
    "    # Charger l'image\n",
    "    img_path = row['file_name']\n",
    "    img = cv2.imread(img_path)\n",
    "    img = cv2.cvtColor(img, cv2.COLOR_BGR2RGB)\n",
    "    img = cv2.resize(img, (448,448))  # taille YOLO standard\n",
    "    img = img / 255.0  # normalisation\n",
    "    X_train.append(img)\n",
    "\n",
    "    # Convertir le y_true de tensor à numpy\n",
    "    y_tensor = row['encoded_grid']  # c'est un tensor ou liste de tensors\n",
    "    if isinstance(y_tensor, torch.Tensor):\n",
    "        y_numpy = y_tensor.numpy()\n",
    "    else:\n",
    "        # Si c'est une liste de listes de tensors\n",
    "        y_numpy = np.array([[t.item() for t in line] for line in y_tensor])\n",
    "    Y_train.append(y_numpy)\n",
    "\n",
    "X_train = np.array(X_train, dtype=np.float32)\n",
    "Y_train = np.array(Y_train, dtype=np.float32)\n",
    "\n",
    "print(X_train.shape, Y_train.shape)"
   ]
  },
  {
   "cell_type": "markdown",
   "id": "d69ff566",
   "metadata": {},
   "source": [
    "## Model"
   ]
  },
  {
   "cell_type": "code",
   "execution_count": null,
   "id": "14c9b898",
   "metadata": {},
   "outputs": [],
   "source": []
  },
  {
   "cell_type": "code",
   "execution_count": 11,
   "id": "038cb110",
   "metadata": {},
   "outputs": [],
   "source": [
    "model = my_CNN.Yolo1(C=20)  # your model\n",
    "model.compile(optimizer='adam', \n",
    "              loss=lambda y_true, y_pred: my_CNN.yolo_loss_tf(y_true, y_pred, S=7, B=2, C=len(my_CNN.classes)),\n",
    "              metrics=[])"
   ]
  },
  {
   "cell_type": "code",
   "execution_count": 12,
   "id": "0b415d59",
   "metadata": {},
   "outputs": [],
   "source": [
    "tf.debugging.set_log_device_placement(True)"
   ]
  },
  {
   "cell_type": "code",
   "execution_count": 13,
   "id": "bb7f1fe2",
   "metadata": {},
   "outputs": [
    {
     "name": "stdout",
     "output_type": "stream",
     "text": [
      "[name: \"/device:CPU:0\"\n",
      "device_type: \"CPU\"\n",
      "memory_limit: 268435456\n",
      "locality {\n",
      "}\n",
      "incarnation: 16534968195606399476\n",
      "]\n"
     ]
    }
   ],
   "source": [
    "from tensorflow.python.client import device_lib \n",
    "print(device_lib.list_local_devices())\n",
    "tf.debugging.set_log_device_placement(True)"
   ]
  },
  {
   "cell_type": "code",
   "execution_count": 14,
   "id": "9688d919",
   "metadata": {},
   "outputs": [],
   "source": [
    "gpus = tf.config.list_physical_devices('GPU')\n",
    "if gpus:\n",
    "    for gpu in gpus:\n",
    "        tf.config.experimental.set_memory_growth(gpu, True)"
   ]
  },
  {
   "cell_type": "code",
   "execution_count": 15,
   "id": "43cfd667",
   "metadata": {},
   "outputs": [
    {
     "name": "stdout",
     "output_type": "stream",
     "text": [
      "[]\n"
     ]
    }
   ],
   "source": [
    "import tensorflow as tf\n",
    "print(tf.config.list_physical_devices('GPU'))"
   ]
  },
  {
   "cell_type": "code",
   "execution_count": 16,
   "id": "3cc78834",
   "metadata": {},
   "outputs": [
    {
     "name": "stdout",
     "output_type": "stream",
     "text": [
      "Epoch 1/10\n",
      "113/113 [==============================] - 341s 3s/step - loss: nan - val_loss: nan\n",
      "Epoch 2/10\n",
      "113/113 [==============================] - 301s 3s/step - loss: nan - val_loss: nan\n",
      "Epoch 3/10\n",
      "113/113 [==============================] - 330s 3s/step - loss: nan - val_loss: nan\n",
      "Epoch 4/10\n",
      "113/113 [==============================] - 329s 3s/step - loss: nan - val_loss: nan\n",
      "Epoch 5/10\n",
      "113/113 [==============================] - 298s 3s/step - loss: nan - val_loss: nan\n",
      "Epoch 6/10\n",
      "113/113 [==============================] - 302s 3s/step - loss: nan - val_loss: nan\n",
      "Epoch 7/10\n",
      "113/113 [==============================] - 310s 3s/step - loss: nan - val_loss: nan\n",
      "Epoch 8/10\n",
      "113/113 [==============================] - 300s 3s/step - loss: nan - val_loss: nan\n",
      "Epoch 9/10\n",
      "113/113 [==============================] - 297s 3s/step - loss: nan - val_loss: nan\n",
      "Epoch 10/10\n",
      "113/113 [==============================] - 296s 3s/step - loss: nan - val_loss: nan\n"
     ]
    }
   ],
   "source": [
    "history = model.fit(X_train, Y_train, epochs=10, batch_size=8, validation_split=0.1)"
   ]
  }
 ],
 "metadata": {
  "kernelspec": {
   "display_name": "Python 3",
   "language": "python",
   "name": "python3"
  },
  "language_info": {
   "codemirror_mode": {
    "name": "ipython",
    "version": 3
   },
   "file_extension": ".py",
   "mimetype": "text/x-python",
   "name": "python",
   "nbconvert_exporter": "python",
   "pygments_lexer": "ipython3",
   "version": "3.9.13"
  }
 },
 "nbformat": 4,
 "nbformat_minor": 5
}
