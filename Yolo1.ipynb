{
 "cells": [
  {
   "cell_type": "code",
   "execution_count": 1,
   "id": "9a67e109",
   "metadata": {},
   "outputs": [],
   "source": [
    "import cv2\n",
    "import pandas as pd \n",
    "import numpy as np\n",
    "import matplotlib.pyplot as plt\n",
    "import tensorflow as tf\n",
    "from tensorflow.keras import datasets, layers, models\n",
    "import xml.etree.ElementTree as ET\n",
    "import os\n"
   ]
  },
  {
   "cell_type": "code",
   "execution_count": 2,
   "id": "46010a73",
   "metadata": {},
   "outputs": [],
   "source": [
    "os.chdir(r\"C:\\Users\\Lucas\\Desktop\\vacantion classes\\Yolo project\\classes\")\n",
    "from CNN import CNN_model #import my class CNN"
   ]
  },
  {
   "cell_type": "code",
   "execution_count": 3,
   "id": "3acbe6ec",
   "metadata": {},
   "outputs": [],
   "source": [
    "os.chdir(r\"C:\\Users\\Lucas\\Desktop\\vacantion classes\\Yolo project\\data\\Pascal_VOC\\train\")"
   ]
  },
  {
   "cell_type": "code",
   "execution_count": 4,
   "id": "eb365c33",
   "metadata": {},
   "outputs": [],
   "source": [
    "path = r\"C:\\Users\\Lucas\\Desktop\\vacantion classes\\Yolo project\\data\\Pascal_VOC\\train\"\n",
    "\n",
    "xml_list = []\n",
    "for filename in os.listdir(path):\n",
    "    if not filename.endswith('.xml'): continue\n",
    "    fullname = os.path.join(path, filename)\n",
    "    xml_list.append(fullname)"
   ]
  },
  {
   "cell_type": "code",
   "execution_count": 5,
   "id": "c9c995d3",
   "metadata": {},
   "outputs": [],
   "source": [
    "my_CNN = CNN_model()\n",
    "my_CNN.convert_annotation(xml_list)"
   ]
  },
  {
   "cell_type": "code",
   "execution_count": 10,
   "id": "db6079a6",
   "metadata": {},
   "outputs": [],
   "source": [
    "os.chdir(r\"C:\\Users\\Lucas\\Desktop\\vacantion classes\\Yolo project\")\n",
    "my_CNN.df.to_json(r\"data\\annot_df.json\",orient=\"records\")"
   ]
  },
  {
   "cell_type": "markdown",
   "id": "d69ff566",
   "metadata": {},
   "source": [
    "## Model"
   ]
  }
 ],
 "metadata": {
  "kernelspec": {
   "display_name": "Python 3",
   "language": "python",
   "name": "python3"
  },
  "language_info": {
   "codemirror_mode": {
    "name": "ipython",
    "version": 3
   },
   "file_extension": ".py",
   "mimetype": "text/x-python",
   "name": "python",
   "nbconvert_exporter": "python",
   "pygments_lexer": "ipython3",
   "version": "3.9.13"
  }
 },
 "nbformat": 4,
 "nbformat_minor": 5
}
