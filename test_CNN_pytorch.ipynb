{
 "cells": [
  {
   "cell_type": "code",
   "execution_count": 1,
   "id": "a97ad272",
   "metadata": {},
   "outputs": [],
   "source": [
    "import cv2\n",
    "import pandas as pd \n",
    "import numpy as np\n",
    "import matplotlib.pyplot as plt\n",
    "import tensorflow as tf\n",
    "from tensorflow.keras import datasets, layers, models\n",
    "import xml.etree.ElementTree as ET\n",
    "from torch.utils.data import Dataset, DataLoader\n",
    "import os\n",
    "from sklearn.model_selection import train_test_split\n",
    "import torch\n",
    "import torch.optim as optim\n",
    "from torch.utils.data import DataLoader\n",
    "from tqdm import tqdm\n"
   ]
  },
  {
   "cell_type": "code",
   "execution_count": 2,
   "id": "a3f6553c",
   "metadata": {},
   "outputs": [],
   "source": [
    "os.chdir(r\"C:\\Users\\Lucas\\Desktop\\vacantion classes\\Yolo project\")\n",
    "from classes.CNN_pytorch import YoloDataset, YoloLoss, YOLOv1, CNN_model, YOLO_visual #import my class CNN"
   ]
  },
  {
   "cell_type": "code",
   "execution_count": 3,
   "id": "cab24268",
   "metadata": {},
   "outputs": [],
   "source": [
    "os.chdir(r\"C:\\Users\\Lucas\\Desktop\\vacantion classes\\Yolo project\\data\\Pascal_VOC\\train\")"
   ]
  },
  {
   "cell_type": "code",
   "execution_count": 4,
   "id": "50d7330a",
   "metadata": {},
   "outputs": [],
   "source": [
    "path = r\"C:\\Users\\Lucas\\Desktop\\vacantion classes\\Yolo project\\data\\Pascal_VOC\\train\"\n",
    "\n",
    "xml_list = []\n",
    "for filename in os.listdir(path):\n",
    "    if not filename.endswith('.xml'): continue\n",
    "    fullname = os.path.join(path, filename)\n",
    "    xml_list.append(fullname)"
   ]
  },
  {
   "cell_type": "code",
   "execution_count": 5,
   "id": "1f9833c9",
   "metadata": {},
   "outputs": [],
   "source": [
    "my_CNN = CNN_model()\n",
    "my_CNN.get_annotation(xml_list)\n",
    "my_CNN.encode_pictures()"
   ]
  },
  {
   "cell_type": "code",
   "execution_count": 6,
   "id": "29a697fb",
   "metadata": {},
   "outputs": [],
   "source": [
    "os.chdir(r\"C:\\Users\\Lucas\\Desktop\\vacantion classes\\Yolo project\")\n",
    "my_CNN.df.to_json(r\"data\\annot_df.json\",orient=\"records\")\n",
    "torch.save(my_CNN.encoded_picture_annot, r\"data\\encoded_picture.pt\")"
   ]
  },
  {
   "cell_type": "code",
   "execution_count": 7,
   "id": "19251688",
   "metadata": {},
   "outputs": [
    {
     "data": {
      "text/html": [
       "<div>\n",
       "<style scoped>\n",
       "    .dataframe tbody tr th:only-of-type {\n",
       "        vertical-align: middle;\n",
       "    }\n",
       "\n",
       "    .dataframe tbody tr th {\n",
       "        vertical-align: top;\n",
       "    }\n",
       "\n",
       "    .dataframe thead th {\n",
       "        text-align: right;\n",
       "    }\n",
       "</style>\n",
       "<table border=\"1\" class=\"dataframe\">\n",
       "  <thead>\n",
       "    <tr style=\"text-align: right;\">\n",
       "      <th></th>\n",
       "      <th>file_name</th>\n",
       "      <th>encoded_grid</th>\n",
       "    </tr>\n",
       "  </thead>\n",
       "  <tbody>\n",
       "    <tr>\n",
       "      <th>1</th>\n",
       "      <td>C:\\Users\\Lucas\\Desktop\\vacantion classes\\Yolo ...</td>\n",
       "      <td>[[[tensor(0.), tensor(0.), tensor(0.), tensor(...</td>\n",
       "    </tr>\n",
       "    <tr>\n",
       "      <th>2</th>\n",
       "      <td>C:\\Users\\Lucas\\Desktop\\vacantion classes\\Yolo ...</td>\n",
       "      <td>[[[tensor(0.), tensor(0.), tensor(0.), tensor(...</td>\n",
       "    </tr>\n",
       "    <tr>\n",
       "      <th>3</th>\n",
       "      <td>C:\\Users\\Lucas\\Desktop\\vacantion classes\\Yolo ...</td>\n",
       "      <td>[[[tensor(0.), tensor(0.), tensor(0.), tensor(...</td>\n",
       "    </tr>\n",
       "    <tr>\n",
       "      <th>4</th>\n",
       "      <td>C:\\Users\\Lucas\\Desktop\\vacantion classes\\Yolo ...</td>\n",
       "      <td>[[[tensor(0.), tensor(0.), tensor(0.), tensor(...</td>\n",
       "    </tr>\n",
       "    <tr>\n",
       "      <th>5</th>\n",
       "      <td>C:\\Users\\Lucas\\Desktop\\vacantion classes\\Yolo ...</td>\n",
       "      <td>[[[tensor(0.), tensor(0.), tensor(0.), tensor(...</td>\n",
       "    </tr>\n",
       "    <tr>\n",
       "      <th>...</th>\n",
       "      <td>...</td>\n",
       "      <td>...</td>\n",
       "    </tr>\n",
       "    <tr>\n",
       "      <th>13295</th>\n",
       "      <td>C:\\Users\\Lucas\\Desktop\\vacantion classes\\Yolo ...</td>\n",
       "      <td>[[[tensor(0.), tensor(0.), tensor(0.), tensor(...</td>\n",
       "    </tr>\n",
       "    <tr>\n",
       "      <th>13296</th>\n",
       "      <td>C:\\Users\\Lucas\\Desktop\\vacantion classes\\Yolo ...</td>\n",
       "      <td>[[[tensor(0.), tensor(0.), tensor(0.), tensor(...</td>\n",
       "    </tr>\n",
       "    <tr>\n",
       "      <th>13297</th>\n",
       "      <td>C:\\Users\\Lucas\\Desktop\\vacantion classes\\Yolo ...</td>\n",
       "      <td>[[[tensor(0.), tensor(0.), tensor(0.), tensor(...</td>\n",
       "    </tr>\n",
       "    <tr>\n",
       "      <th>13298</th>\n",
       "      <td>C:\\Users\\Lucas\\Desktop\\vacantion classes\\Yolo ...</td>\n",
       "      <td>[[[tensor(0.), tensor(0.), tensor(0.), tensor(...</td>\n",
       "    </tr>\n",
       "    <tr>\n",
       "      <th>13299</th>\n",
       "      <td>C:\\Users\\Lucas\\Desktop\\vacantion classes\\Yolo ...</td>\n",
       "      <td>[[[tensor(0.), tensor(0.), tensor(0.), tensor(...</td>\n",
       "    </tr>\n",
       "  </tbody>\n",
       "</table>\n",
       "<p>13299 rows × 2 columns</p>\n",
       "</div>"
      ],
      "text/plain": [
       "                                               file_name  \\\n",
       "1      C:\\Users\\Lucas\\Desktop\\vacantion classes\\Yolo ...   \n",
       "2      C:\\Users\\Lucas\\Desktop\\vacantion classes\\Yolo ...   \n",
       "3      C:\\Users\\Lucas\\Desktop\\vacantion classes\\Yolo ...   \n",
       "4      C:\\Users\\Lucas\\Desktop\\vacantion classes\\Yolo ...   \n",
       "5      C:\\Users\\Lucas\\Desktop\\vacantion classes\\Yolo ...   \n",
       "...                                                  ...   \n",
       "13295  C:\\Users\\Lucas\\Desktop\\vacantion classes\\Yolo ...   \n",
       "13296  C:\\Users\\Lucas\\Desktop\\vacantion classes\\Yolo ...   \n",
       "13297  C:\\Users\\Lucas\\Desktop\\vacantion classes\\Yolo ...   \n",
       "13298  C:\\Users\\Lucas\\Desktop\\vacantion classes\\Yolo ...   \n",
       "13299  C:\\Users\\Lucas\\Desktop\\vacantion classes\\Yolo ...   \n",
       "\n",
       "                                            encoded_grid  \n",
       "1      [[[tensor(0.), tensor(0.), tensor(0.), tensor(...  \n",
       "2      [[[tensor(0.), tensor(0.), tensor(0.), tensor(...  \n",
       "3      [[[tensor(0.), tensor(0.), tensor(0.), tensor(...  \n",
       "4      [[[tensor(0.), tensor(0.), tensor(0.), tensor(...  \n",
       "5      [[[tensor(0.), tensor(0.), tensor(0.), tensor(...  \n",
       "...                                                  ...  \n",
       "13295  [[[tensor(0.), tensor(0.), tensor(0.), tensor(...  \n",
       "13296  [[[tensor(0.), tensor(0.), tensor(0.), tensor(...  \n",
       "13297  [[[tensor(0.), tensor(0.), tensor(0.), tensor(...  \n",
       "13298  [[[tensor(0.), tensor(0.), tensor(0.), tensor(...  \n",
       "13299  [[[tensor(0.), tensor(0.), tensor(0.), tensor(...  \n",
       "\n",
       "[13299 rows x 2 columns]"
      ]
     },
     "execution_count": 7,
     "metadata": {},
     "output_type": "execute_result"
    }
   ],
   "source": [
    "df_encoded = torch.load(r\"data\\encoded_picture.pt\",weights_only=False)\n",
    "df_encoded"
   ]
  },
  {
   "cell_type": "code",
   "execution_count": 8,
   "id": "af0dab00",
   "metadata": {},
   "outputs": [],
   "source": [
    "X_train, X_test, y_train, y_test = train_test_split(df_encoded['file_name'],df_encoded['encoded_grid'],test_size=0.4)\n",
    "\n",
    "X_train = X_train.reset_index(drop=True)\n",
    "y_train = y_train.reset_index(drop=True)\n",
    "X_test = X_test.reset_index(drop=True)\n",
    "y_test = y_test.reset_index(drop=True)"
   ]
  },
  {
   "cell_type": "code",
   "execution_count": 9,
   "id": "b6401da5",
   "metadata": {},
   "outputs": [],
   "source": [
    "X_train = X_train[:1000]\n",
    "y_train = y_train[:1000]"
   ]
  },
  {
   "cell_type": "code",
   "execution_count": 10,
   "id": "55daa2de",
   "metadata": {},
   "outputs": [],
   "source": [
    "train_dataset = YoloDataset(X_train, y_train)\n",
    "test_dataset = YoloDataset(X_test, y_test)\n",
    "\n",
    "train_loader = DataLoader(train_dataset, batch_size=8, shuffle=True)\n",
    "test_loader = DataLoader(test_dataset, batch_size=8, shuffle=False)\n"
   ]
  },
  {
   "cell_type": "code",
   "execution_count": 11,
   "id": "ae6ff8d0",
   "metadata": {},
   "outputs": [
    {
     "name": "stderr",
     "output_type": "stream",
     "text": [
      "Epoch 1/70:   0%|          | 0/125 [00:00<?, ?it/s]"
     ]
    },
    {
     "name": "stdout",
     "output_type": "stream",
     "text": [
      "Starting training on cuda for 70 epochs...\n",
      "\n"
     ]
    },
    {
     "name": "stderr",
     "output_type": "stream",
     "text": [
      "c:\\Users\\Lucas\\Desktop\\vacantion classes\\Yolo project\\classes\\CNN_pytorch.py:533: UserWarning: To copy construct from a tensor, it is recommended to use sourceTensor.clone().detach() or sourceTensor.clone().detach().requires_grad_(True), rather than torch.tensor(sourceTensor).\n",
      "  label = torch.tensor(self.Y_tensor[idx], dtype=torch.float32)\n",
      "Epoch 2/70:   0%|          | 0/125 [00:00<?, ?it/s]                        "
     ]
    },
    {
     "name": "stdout",
     "output_type": "stream",
     "text": [
      "Epoch [1/70] | Avg Loss: 8.4938\n"
     ]
    },
    {
     "name": "stderr",
     "output_type": "stream",
     "text": [
      "Epoch 3/70:   0%|          | 0/125 [00:00<?, ?it/s]                        "
     ]
    },
    {
     "name": "stdout",
     "output_type": "stream",
     "text": [
      "Epoch [2/70] | Avg Loss: 5.8743\n"
     ]
    },
    {
     "name": "stderr",
     "output_type": "stream",
     "text": [
      "Epoch 4/70:   0%|          | 0/125 [00:00<?, ?it/s]                       "
     ]
    },
    {
     "name": "stdout",
     "output_type": "stream",
     "text": [
      "Epoch [3/70] | Avg Loss: 5.5778\n"
     ]
    },
    {
     "name": "stderr",
     "output_type": "stream",
     "text": [
      "Epoch 5/70:   0%|          | 0/125 [00:00<?, ?it/s]                       "
     ]
    },
    {
     "name": "stdout",
     "output_type": "stream",
     "text": [
      "Epoch [4/70] | Avg Loss: 5.3576\n"
     ]
    },
    {
     "name": "stderr",
     "output_type": "stream",
     "text": [
      "Epoch 6/70:   0%|          | 0/125 [00:00<?, ?it/s]                       "
     ]
    },
    {
     "name": "stdout",
     "output_type": "stream",
     "text": [
      "Epoch [5/70] | Avg Loss: 5.1848\n"
     ]
    },
    {
     "name": "stderr",
     "output_type": "stream",
     "text": [
      "Epoch 7/70:   0%|          | 0/125 [00:00<?, ?it/s]                       "
     ]
    },
    {
     "name": "stdout",
     "output_type": "stream",
     "text": [
      "Epoch [6/70] | Avg Loss: 4.9502\n"
     ]
    },
    {
     "name": "stderr",
     "output_type": "stream",
     "text": [
      "Epoch 8/70:   0%|          | 0/125 [00:00<?, ?it/s]                        "
     ]
    },
    {
     "name": "stdout",
     "output_type": "stream",
     "text": [
      "Epoch [7/70] | Avg Loss: 4.9498\n"
     ]
    },
    {
     "name": "stderr",
     "output_type": "stream",
     "text": [
      "Epoch 9/70:   0%|          | 0/125 [00:00<?, ?it/s]                       "
     ]
    },
    {
     "name": "stdout",
     "output_type": "stream",
     "text": [
      "Epoch [8/70] | Avg Loss: 4.8085\n"
     ]
    },
    {
     "name": "stderr",
     "output_type": "stream",
     "text": [
      "Epoch 10/70:   0%|          | 0/125 [00:00<?, ?it/s]                      "
     ]
    },
    {
     "name": "stdout",
     "output_type": "stream",
     "text": [
      "Epoch [9/70] | Avg Loss: 4.8397\n"
     ]
    },
    {
     "name": "stderr",
     "output_type": "stream",
     "text": [
      "Epoch 11/70:   0%|          | 0/125 [00:00<?, ?it/s]                       "
     ]
    },
    {
     "name": "stdout",
     "output_type": "stream",
     "text": [
      "Epoch [10/70] | Avg Loss: 4.7885\n"
     ]
    },
    {
     "name": "stderr",
     "output_type": "stream",
     "text": [
      "Epoch 12/70:   0%|          | 0/125 [00:00<?, ?it/s]                       "
     ]
    },
    {
     "name": "stdout",
     "output_type": "stream",
     "text": [
      "Epoch [11/70] | Avg Loss: 4.8014\n"
     ]
    },
    {
     "name": "stderr",
     "output_type": "stream",
     "text": [
      "Epoch 13/70:   0%|          | 0/125 [00:00<?, ?it/s]                        "
     ]
    },
    {
     "name": "stdout",
     "output_type": "stream",
     "text": [
      "Epoch [12/70] | Avg Loss: 4.7414\n"
     ]
    },
    {
     "name": "stderr",
     "output_type": "stream",
     "text": [
      "Epoch 14/70:   0%|          | 0/125 [00:00<?, ?it/s]                       "
     ]
    },
    {
     "name": "stdout",
     "output_type": "stream",
     "text": [
      "Epoch [13/70] | Avg Loss: 4.7332\n"
     ]
    },
    {
     "name": "stderr",
     "output_type": "stream",
     "text": [
      "Epoch 15/70:   0%|          | 0/125 [00:00<?, ?it/s]                       "
     ]
    },
    {
     "name": "stdout",
     "output_type": "stream",
     "text": [
      "Epoch [14/70] | Avg Loss: 4.7369\n"
     ]
    },
    {
     "name": "stderr",
     "output_type": "stream",
     "text": [
      "Epoch 16/70:   0%|          | 0/125 [00:00<?, ?it/s]                        "
     ]
    },
    {
     "name": "stdout",
     "output_type": "stream",
     "text": [
      "Epoch [15/70] | Avg Loss: 4.6572\n"
     ]
    },
    {
     "name": "stderr",
     "output_type": "stream",
     "text": [
      "Epoch 17/70:   0%|          | 0/125 [00:00<?, ?it/s]                       "
     ]
    },
    {
     "name": "stdout",
     "output_type": "stream",
     "text": [
      "Epoch [16/70] | Avg Loss: 4.6931\n"
     ]
    },
    {
     "name": "stderr",
     "output_type": "stream",
     "text": [
      "Epoch 18/70:   0%|          | 0/125 [00:00<?, ?it/s]                       "
     ]
    },
    {
     "name": "stdout",
     "output_type": "stream",
     "text": [
      "Epoch [17/70] | Avg Loss: 4.6491\n"
     ]
    },
    {
     "name": "stderr",
     "output_type": "stream",
     "text": [
      "Epoch 19/70:   0%|          | 0/125 [00:00<?, ?it/s]                       "
     ]
    },
    {
     "name": "stdout",
     "output_type": "stream",
     "text": [
      "Epoch [18/70] | Avg Loss: 4.7049\n"
     ]
    },
    {
     "name": "stderr",
     "output_type": "stream",
     "text": [
      "Epoch 20/70:   0%|          | 0/125 [00:00<?, ?it/s]                       "
     ]
    },
    {
     "name": "stdout",
     "output_type": "stream",
     "text": [
      "Epoch [19/70] | Avg Loss: 4.6248\n"
     ]
    },
    {
     "name": "stderr",
     "output_type": "stream",
     "text": [
      "Epoch 21/70:   0%|          | 0/125 [00:00<?, ?it/s]                       "
     ]
    },
    {
     "name": "stdout",
     "output_type": "stream",
     "text": [
      "Epoch [20/70] | Avg Loss: 4.6480\n"
     ]
    },
    {
     "name": "stderr",
     "output_type": "stream",
     "text": [
      "Epoch 22/70:   0%|          | 0/125 [00:00<?, ?it/s]                       "
     ]
    },
    {
     "name": "stdout",
     "output_type": "stream",
     "text": [
      "Epoch [21/70] | Avg Loss: 4.6747\n"
     ]
    },
    {
     "name": "stderr",
     "output_type": "stream",
     "text": [
      "Epoch 23/70:   0%|          | 0/125 [00:00<?, ?it/s]                       "
     ]
    },
    {
     "name": "stdout",
     "output_type": "stream",
     "text": [
      "Epoch [22/70] | Avg Loss: 4.7545\n"
     ]
    },
    {
     "name": "stderr",
     "output_type": "stream",
     "text": [
      "Epoch 24/70:   0%|          | 0/125 [00:00<?, ?it/s]                       "
     ]
    },
    {
     "name": "stdout",
     "output_type": "stream",
     "text": [
      "Epoch [23/70] | Avg Loss: 4.6177\n"
     ]
    },
    {
     "name": "stderr",
     "output_type": "stream",
     "text": [
      "Epoch 25/70:   0%|          | 0/125 [00:00<?, ?it/s]                       "
     ]
    },
    {
     "name": "stdout",
     "output_type": "stream",
     "text": [
      "Epoch [24/70] | Avg Loss: 4.6418\n"
     ]
    },
    {
     "name": "stderr",
     "output_type": "stream",
     "text": [
      "Epoch 26/70:   0%|          | 0/125 [00:00<?, ?it/s]                       "
     ]
    },
    {
     "name": "stdout",
     "output_type": "stream",
     "text": [
      "Epoch [25/70] | Avg Loss: 4.6369\n"
     ]
    },
    {
     "name": "stderr",
     "output_type": "stream",
     "text": [
      "Epoch 27/70:   0%|          | 0/125 [00:00<?, ?it/s]                       "
     ]
    },
    {
     "name": "stdout",
     "output_type": "stream",
     "text": [
      "Epoch [26/70] | Avg Loss: 4.5934\n"
     ]
    },
    {
     "name": "stderr",
     "output_type": "stream",
     "text": [
      "Epoch 28/70:   0%|          | 0/125 [00:00<?, ?it/s]                       "
     ]
    },
    {
     "name": "stdout",
     "output_type": "stream",
     "text": [
      "Epoch [27/70] | Avg Loss: 4.5927\n"
     ]
    },
    {
     "name": "stderr",
     "output_type": "stream",
     "text": [
      "Epoch 29/70:   0%|          | 0/125 [00:00<?, ?it/s]                       "
     ]
    },
    {
     "name": "stdout",
     "output_type": "stream",
     "text": [
      "Epoch [28/70] | Avg Loss: 4.6070\n"
     ]
    },
    {
     "name": "stderr",
     "output_type": "stream",
     "text": [
      "Epoch 30/70:   0%|          | 0/125 [00:00<?, ?it/s]                       "
     ]
    },
    {
     "name": "stdout",
     "output_type": "stream",
     "text": [
      "Epoch [29/70] | Avg Loss: 4.6348\n"
     ]
    },
    {
     "name": "stderr",
     "output_type": "stream",
     "text": [
      "Epoch 31/70:   0%|          | 0/125 [00:00<?, ?it/s]                       "
     ]
    },
    {
     "name": "stdout",
     "output_type": "stream",
     "text": [
      "Epoch [30/70] | Avg Loss: 4.6539\n"
     ]
    },
    {
     "name": "stderr",
     "output_type": "stream",
     "text": [
      "Epoch 32/70:   0%|          | 0/125 [00:00<?, ?it/s]                       "
     ]
    },
    {
     "name": "stdout",
     "output_type": "stream",
     "text": [
      "Epoch [31/70] | Avg Loss: 4.6102\n"
     ]
    },
    {
     "name": "stderr",
     "output_type": "stream",
     "text": [
      "Epoch 33/70:   0%|          | 0/125 [00:00<?, ?it/s]                       "
     ]
    },
    {
     "name": "stdout",
     "output_type": "stream",
     "text": [
      "Epoch [32/70] | Avg Loss: 4.5241\n"
     ]
    },
    {
     "name": "stderr",
     "output_type": "stream",
     "text": [
      "Epoch 34/70:   0%|          | 0/125 [00:00<?, ?it/s]                       "
     ]
    },
    {
     "name": "stdout",
     "output_type": "stream",
     "text": [
      "Epoch [33/70] | Avg Loss: 4.5512\n"
     ]
    },
    {
     "name": "stderr",
     "output_type": "stream",
     "text": [
      "Epoch 35/70:   0%|          | 0/125 [00:00<?, ?it/s]                       "
     ]
    },
    {
     "name": "stdout",
     "output_type": "stream",
     "text": [
      "Epoch [34/70] | Avg Loss: 4.5381\n"
     ]
    },
    {
     "name": "stderr",
     "output_type": "stream",
     "text": [
      "Epoch 36/70:   0%|          | 0/125 [00:00<?, ?it/s]                       "
     ]
    },
    {
     "name": "stdout",
     "output_type": "stream",
     "text": [
      "Epoch [35/70] | Avg Loss: 4.5655\n"
     ]
    },
    {
     "name": "stderr",
     "output_type": "stream",
     "text": [
      "Epoch 37/70:   0%|          | 0/125 [00:00<?, ?it/s]                       "
     ]
    },
    {
     "name": "stdout",
     "output_type": "stream",
     "text": [
      "Epoch [36/70] | Avg Loss: 4.5343\n"
     ]
    },
    {
     "name": "stderr",
     "output_type": "stream",
     "text": [
      "Epoch 38/70:   0%|          | 0/125 [00:00<?, ?it/s]                       "
     ]
    },
    {
     "name": "stdout",
     "output_type": "stream",
     "text": [
      "Epoch [37/70] | Avg Loss: 4.5612\n"
     ]
    },
    {
     "name": "stderr",
     "output_type": "stream",
     "text": [
      "Epoch 39/70:   0%|          | 0/125 [00:00<?, ?it/s]                        "
     ]
    },
    {
     "name": "stdout",
     "output_type": "stream",
     "text": [
      "Epoch [38/70] | Avg Loss: 4.5924\n"
     ]
    },
    {
     "name": "stderr",
     "output_type": "stream",
     "text": [
      "Epoch 40/70:   0%|          | 0/125 [00:00<?, ?it/s]                       "
     ]
    },
    {
     "name": "stdout",
     "output_type": "stream",
     "text": [
      "Epoch [39/70] | Avg Loss: 4.5628\n"
     ]
    },
    {
     "name": "stderr",
     "output_type": "stream",
     "text": [
      "Epoch 41/70:   0%|          | 0/125 [00:00<?, ?it/s]                       "
     ]
    },
    {
     "name": "stdout",
     "output_type": "stream",
     "text": [
      "Epoch [40/70] | Avg Loss: 4.5199\n"
     ]
    },
    {
     "name": "stderr",
     "output_type": "stream",
     "text": [
      "Epoch 42/70:   0%|          | 0/125 [00:00<?, ?it/s]                       "
     ]
    },
    {
     "name": "stdout",
     "output_type": "stream",
     "text": [
      "Epoch [41/70] | Avg Loss: 4.6378\n"
     ]
    },
    {
     "name": "stderr",
     "output_type": "stream",
     "text": [
      "Epoch 43/70:   0%|          | 0/125 [00:00<?, ?it/s]                       "
     ]
    },
    {
     "name": "stdout",
     "output_type": "stream",
     "text": [
      "Epoch [42/70] | Avg Loss: 4.5214\n"
     ]
    },
    {
     "name": "stderr",
     "output_type": "stream",
     "text": [
      "Epoch 44/70:   0%|          | 0/125 [00:00<?, ?it/s]                       "
     ]
    },
    {
     "name": "stdout",
     "output_type": "stream",
     "text": [
      "Epoch [43/70] | Avg Loss: 4.5849\n"
     ]
    },
    {
     "name": "stderr",
     "output_type": "stream",
     "text": [
      "Epoch 45/70:   0%|          | 0/125 [00:00<?, ?it/s]                       "
     ]
    },
    {
     "name": "stdout",
     "output_type": "stream",
     "text": [
      "Epoch [44/70] | Avg Loss: 4.5631\n"
     ]
    },
    {
     "name": "stderr",
     "output_type": "stream",
     "text": [
      "Epoch 46/70:   0%|          | 0/125 [00:00<?, ?it/s]                       "
     ]
    },
    {
     "name": "stdout",
     "output_type": "stream",
     "text": [
      "Epoch [45/70] | Avg Loss: 4.5523\n"
     ]
    },
    {
     "name": "stderr",
     "output_type": "stream",
     "text": [
      "Epoch 47/70:   0%|          | 0/125 [00:00<?, ?it/s]                       "
     ]
    },
    {
     "name": "stdout",
     "output_type": "stream",
     "text": [
      "Epoch [46/70] | Avg Loss: 4.4972\n"
     ]
    },
    {
     "name": "stderr",
     "output_type": "stream",
     "text": [
      "Epoch 48/70:   0%|          | 0/125 [00:00<?, ?it/s]                       "
     ]
    },
    {
     "name": "stdout",
     "output_type": "stream",
     "text": [
      "Epoch [47/70] | Avg Loss: 4.4921\n"
     ]
    },
    {
     "name": "stderr",
     "output_type": "stream",
     "text": [
      "Epoch 49/70:   0%|          | 0/125 [00:00<?, ?it/s]                       "
     ]
    },
    {
     "name": "stdout",
     "output_type": "stream",
     "text": [
      "Epoch [48/70] | Avg Loss: 4.5299\n"
     ]
    },
    {
     "name": "stderr",
     "output_type": "stream",
     "text": [
      "Epoch 50/70:   0%|          | 0/125 [00:00<?, ?it/s]                       "
     ]
    },
    {
     "name": "stdout",
     "output_type": "stream",
     "text": [
      "Epoch [49/70] | Avg Loss: 4.5168\n"
     ]
    },
    {
     "name": "stderr",
     "output_type": "stream",
     "text": [
      "Epoch 51/70:   0%|          | 0/125 [00:00<?, ?it/s]                       "
     ]
    },
    {
     "name": "stdout",
     "output_type": "stream",
     "text": [
      "Epoch [50/70] | Avg Loss: 4.5436\n"
     ]
    },
    {
     "name": "stderr",
     "output_type": "stream",
     "text": [
      "Epoch 52/70:   0%|          | 0/125 [00:00<?, ?it/s]                       "
     ]
    },
    {
     "name": "stdout",
     "output_type": "stream",
     "text": [
      "Epoch [51/70] | Avg Loss: 4.6126\n"
     ]
    },
    {
     "name": "stderr",
     "output_type": "stream",
     "text": [
      "Epoch 53/70:   0%|          | 0/125 [00:00<?, ?it/s]                        "
     ]
    },
    {
     "name": "stdout",
     "output_type": "stream",
     "text": [
      "Epoch [52/70] | Avg Loss: 4.5472\n"
     ]
    },
    {
     "name": "stderr",
     "output_type": "stream",
     "text": [
      "Epoch 54/70:   0%|          | 0/125 [00:00<?, ?it/s]                       "
     ]
    },
    {
     "name": "stdout",
     "output_type": "stream",
     "text": [
      "Epoch [53/70] | Avg Loss: 4.5370\n"
     ]
    },
    {
     "name": "stderr",
     "output_type": "stream",
     "text": [
      "Epoch 55/70:   0%|          | 0/125 [00:00<?, ?it/s]                       "
     ]
    },
    {
     "name": "stdout",
     "output_type": "stream",
     "text": [
      "Epoch [54/70] | Avg Loss: 4.5423\n"
     ]
    },
    {
     "name": "stderr",
     "output_type": "stream",
     "text": [
      "Epoch 56/70:   0%|          | 0/125 [00:00<?, ?it/s]                       "
     ]
    },
    {
     "name": "stdout",
     "output_type": "stream",
     "text": [
      "Epoch [55/70] | Avg Loss: 4.5216\n"
     ]
    },
    {
     "name": "stderr",
     "output_type": "stream",
     "text": [
      "Epoch 57/70:   0%|          | 0/125 [00:00<?, ?it/s]                       "
     ]
    },
    {
     "name": "stdout",
     "output_type": "stream",
     "text": [
      "Epoch [56/70] | Avg Loss: 4.5344\n"
     ]
    },
    {
     "name": "stderr",
     "output_type": "stream",
     "text": [
      "Epoch 58/70:   0%|          | 0/125 [00:00<?, ?it/s]                       "
     ]
    },
    {
     "name": "stdout",
     "output_type": "stream",
     "text": [
      "Epoch [57/70] | Avg Loss: 4.5256\n"
     ]
    },
    {
     "name": "stderr",
     "output_type": "stream",
     "text": [
      "Epoch 59/70:   0%|          | 0/125 [00:00<?, ?it/s]                       "
     ]
    },
    {
     "name": "stdout",
     "output_type": "stream",
     "text": [
      "Epoch [58/70] | Avg Loss: 4.5457\n"
     ]
    },
    {
     "name": "stderr",
     "output_type": "stream",
     "text": [
      "Epoch 60/70:   0%|          | 0/125 [00:00<?, ?it/s]                       "
     ]
    },
    {
     "name": "stdout",
     "output_type": "stream",
     "text": [
      "Epoch [59/70] | Avg Loss: 4.5007\n"
     ]
    },
    {
     "name": "stderr",
     "output_type": "stream",
     "text": [
      "Epoch 61/70:   0%|          | 0/125 [00:00<?, ?it/s]                       "
     ]
    },
    {
     "name": "stdout",
     "output_type": "stream",
     "text": [
      "Epoch [60/70] | Avg Loss: 4.5207\n"
     ]
    },
    {
     "name": "stderr",
     "output_type": "stream",
     "text": [
      "Epoch 62/70:   0%|          | 0/125 [00:00<?, ?it/s]                       "
     ]
    },
    {
     "name": "stdout",
     "output_type": "stream",
     "text": [
      "Epoch [61/70] | Avg Loss: 4.5530\n"
     ]
    },
    {
     "name": "stderr",
     "output_type": "stream",
     "text": [
      "Epoch 63/70:   0%|          | 0/125 [00:00<?, ?it/s]                       "
     ]
    },
    {
     "name": "stdout",
     "output_type": "stream",
     "text": [
      "Epoch [62/70] | Avg Loss: 4.5226\n"
     ]
    },
    {
     "name": "stderr",
     "output_type": "stream",
     "text": [
      "Epoch 64/70:   0%|          | 0/125 [00:00<?, ?it/s]                       "
     ]
    },
    {
     "name": "stdout",
     "output_type": "stream",
     "text": [
      "Epoch [63/70] | Avg Loss: 4.5807\n"
     ]
    },
    {
     "name": "stderr",
     "output_type": "stream",
     "text": [
      "Epoch 65/70:   0%|          | 0/125 [00:00<?, ?it/s]                       "
     ]
    },
    {
     "name": "stdout",
     "output_type": "stream",
     "text": [
      "Epoch [64/70] | Avg Loss: 4.4813\n"
     ]
    },
    {
     "name": "stderr",
     "output_type": "stream",
     "text": [
      "Epoch 66/70:   0%|          | 0/125 [00:00<?, ?it/s]                       "
     ]
    },
    {
     "name": "stdout",
     "output_type": "stream",
     "text": [
      "Epoch [65/70] | Avg Loss: 4.5163\n"
     ]
    },
    {
     "name": "stderr",
     "output_type": "stream",
     "text": [
      "Epoch 67/70:   0%|          | 0/125 [00:00<?, ?it/s]                       "
     ]
    },
    {
     "name": "stdout",
     "output_type": "stream",
     "text": [
      "Epoch [66/70] | Avg Loss: 4.5660\n"
     ]
    },
    {
     "name": "stderr",
     "output_type": "stream",
     "text": [
      "Epoch 68/70:   0%|          | 0/125 [00:00<?, ?it/s]                        "
     ]
    },
    {
     "name": "stdout",
     "output_type": "stream",
     "text": [
      "Epoch [67/70] | Avg Loss: 4.5232\n"
     ]
    },
    {
     "name": "stderr",
     "output_type": "stream",
     "text": [
      "Epoch 69/70:   0%|          | 0/125 [00:00<?, ?it/s]                       "
     ]
    },
    {
     "name": "stdout",
     "output_type": "stream",
     "text": [
      "Epoch [68/70] | Avg Loss: 4.6044\n"
     ]
    },
    {
     "name": "stderr",
     "output_type": "stream",
     "text": [
      "Epoch 70/70:   0%|          | 0/125 [00:00<?, ?it/s]                        "
     ]
    },
    {
     "name": "stdout",
     "output_type": "stream",
     "text": [
      "Epoch [69/70] | Avg Loss: 4.5473\n"
     ]
    },
    {
     "name": "stderr",
     "output_type": "stream",
     "text": [
      "                                                                           \r"
     ]
    },
    {
     "name": "stdout",
     "output_type": "stream",
     "text": [
      "Epoch [70/70] | Avg Loss: 4.4996\n",
      "\n",
      "💾 Model saved as yolov1_trained.pth\n"
     ]
    },
    {
     "data": {
      "image/png": "[encoded data removed]",
      "text/plain": [
       "<Figure size 576x360 with 1 Axes>"
      ]
     },
     "metadata": {
      "needs_background": "light"
     },
     "output_type": "display_data"
    }
   ],
   "source": [
    "train_dataset = YoloDataset(X_train, y_train)\n",
    "test_dataset = YoloDataset(X_test, y_test)\n",
    "\n",
    "train_loader = DataLoader(train_dataset, batch_size=8, shuffle=True)\n",
    "test_loader = DataLoader(test_dataset, batch_size=8, shuffle=False)\n",
    "\n",
    "# -------------------------------\n",
    "# 2️⃣ Initialize Model, Loss, Optimizer\n",
    "# -------------------------------\n",
    "device = torch.device('cuda' if torch.cuda.is_available() else 'cpu')\n",
    "S, B, C = 7, 2, 20\n",
    "\n",
    "model = YOLOv1(S=S, B=B, C=C).to(device)\n",
    "criterion = YoloLoss(S=S, B=B, C=C)\n",
    "#optimizer = optim.Adam(model.parameters(), lr=1e-4, weight_decay=1e-5)\n",
    "optimizer = torch.optim.SGD(model.parameters(),lr=1e-2,momentum=0.9,weight_decay=5e-4)\n",
    "scheduler = torch.optim.lr_scheduler.MultiStepLR(optimizer,milestones=[75, 105],gamma=0.1)\n",
    "\n",
    "\n",
    "# -------------------------------\n",
    "# 3️⃣ Training Loop with Progress Bar\n",
    "# -------------------------------\n",
    "num_epochs = 70\n",
    "train_losses = []\n",
    "\n",
    "print(f\"Starting training on {device} for {num_epochs} epochs...\\n\")\n",
    "\n",
    "for epoch in range(num_epochs):\n",
    "    model.train()\n",
    "    running_loss = 0.0\n",
    "\n",
    "    progress_bar = tqdm(train_loader, desc=f\"Epoch {epoch+1}/{num_epochs}\", leave=False)\n",
    "\n",
    "    for imgs, labels in progress_bar:\n",
    "        imgs, labels = imgs.to(device), labels.to(device)\n",
    "        optimizer.zero_grad()\n",
    "        preds = model(imgs)\n",
    "        loss = criterion.yolo_loss(preds, labels)\n",
    "        loss.backward()\n",
    "        torch.nn.utils.clip_grad_norm_(model.parameters(), max_norm=5)\n",
    "        optimizer.step()\n",
    "\n",
    "        running_loss += loss.item()\n",
    "        progress_bar.set_postfix({\"Loss\": f\"{loss.item():.4f}\"})\n",
    "\n",
    "    scheduler.step()\n",
    "    avg_loss = running_loss / len(train_loader)\n",
    "    train_losses.append(avg_loss)\n",
    "    print(f\"Epoch [{epoch+1}/{num_epochs}] | Avg Loss: {avg_loss:.4f}\")\n",
    "    \n",
    "torch.save(model.state_dict(), \"yolov1_trained.pth\")\n",
    "print(\"\\n💾 Model saved as yolov1_trained.pth\")\n",
    "\n",
    "# -------------------------------\n",
    "# 4️⃣ Plot Training Loss Curve\n",
    "# -------------------------------\n",
    "plt.figure(figsize=(8,5))\n",
    "plt.plot(range(1, num_epochs+1), train_losses, marker='o')\n",
    "plt.title(\"YOLOv1 Training Loss\")\n",
    "plt.xlabel(\"Epoch\")\n",
    "plt.ylabel(\"Loss\")\n",
    "plt.grid(True)\n",
    "plt.show()"
   ]
  },
  {
   "cell_type": "code",
   "execution_count": 12,
   "id": "809cf322",
   "metadata": {},
   "outputs": [
    {
     "name": "stdout",
     "output_type": "stream",
     "text": [
      "🔁 Loaded model from yolov1_trained.pth\n"
     ]
    }
   ],
   "source": [
    "device = torch.device('cuda' if torch.cuda.is_available() else 'cpu')\n",
    "S, B, C = 7, 2, 20\n",
    "\n",
    "model = YOLOv1(S=S, B=B, C=C).to(device)\n",
    "criterion = YoloLoss(S=S, B=B, C=C)\n",
    "optimizer = optim.Adam(model.parameters(), lr=1e-4, weight_decay=1e-5)\n",
    "\n",
    "loaded_model = YOLOv1(S=S, B=B, C=C).to(device)\n",
    "loaded_model.load_state_dict(torch.load(\"yolov1_trained.pth\", map_location=device))\n",
    "loaded_model.eval()\n",
    "print(\"🔁 Loaded model from yolov1_trained.pth\")\n"
   ]
  },
  {
   "cell_type": "code",
   "execution_count": 13,
   "id": "793cfd8f",
   "metadata": {},
   "outputs": [
    {
     "name": "stderr",
     "output_type": "stream",
     "text": [
      "Evaluating:   0%|          | 0/665 [00:00<?, ?it/s]"
     ]
    },
    {
     "name": "stdout",
     "output_type": "stream",
     "text": [
      "🔁 Loaded model from yolov1_trained.pth\n"
     ]
    },
    {
     "name": "stderr",
     "output_type": "stream",
     "text": [
      "Evaluating: 100%|██████████| 665/665 [03:57<00:00,  2.80it/s]"
     ]
    },
    {
     "name": "stdout",
     "output_type": "stream",
     "text": [
      "\n",
      "📊 Test Loss: 4.3950\n"
     ]
    },
    {
     "name": "stderr",
     "output_type": "stream",
     "text": [
      "\n"
     ]
    }
   ],
   "source": [
    "device = torch.device('cuda' if torch.cuda.is_available() else 'cpu')\n",
    "S, B, C = 7, 2, 20\n",
    "\n",
    "model = YOLOv1(S=S, B=B, C=C).to(device)\n",
    "criterion = YoloLoss(S=S, B=B, C=C)\n",
    "optimizer = optim.Adam(model.parameters(), lr=1e-4, weight_decay=1e-5)\n",
    "\n",
    "loaded_model = YOLOv1(S=S, B=B, C=C).to(device)\n",
    "loaded_model.load_state_dict(torch.load(\"yolov1_trained.pth\", map_location=device))\n",
    "loaded_model.eval()\n",
    "print(\"🔁 Loaded model from yolov1_trained.pth\")\n",
    "\n",
    "# -------------------------------\n",
    "# 7️⃣ Evaluate on Test Set\n",
    "# -------------------------------\n",
    "test_loss = 0.0\n",
    "with torch.no_grad():\n",
    "    for imgs, labels in tqdm(test_loader, desc=\"Evaluating\"):\n",
    "        imgs, labels = imgs.to(device), labels.to(device)\n",
    "        preds = loaded_model(imgs)\n",
    "        loss = criterion.yolo_loss(preds, labels)\n",
    "        test_loss += loss.item()\n",
    "\n",
    "avg_test_loss = test_loss / len(test_loader)\n",
    "print(f\"\\n📊 Test Loss: {avg_test_loss:.4f}\")"
   ]
  },
  {
   "cell_type": "code",
   "execution_count": 14,
   "id": "d605fa58",
   "metadata": {},
   "outputs": [
    {
     "name": "stdout",
     "output_type": "stream",
     "text": [
      "tensor([ 0.0039,  0.0107, -0.0125,  0.0057,  0.0140, -0.0157, -0.0004, -0.0080,\n",
      "         0.0080,  0.0118, -0.0045,  0.0154,  0.0075,  0.0154,  0.0081,  0.0075,\n",
      "         0.0147,  0.0047,  0.0026,  0.0017,  0.0130,  0.0104,  0.0089, -0.0078,\n",
      "         0.0028, -0.0100,  0.0089, -0.0139,  0.0124, -0.0084], device='cuda:0')\n"
     ]
    }
   ],
   "source": [
    "img_path = X_train[12]\n",
    "img = cv2.imread(img_path)\n",
    "img = cv2.resize(img, (448, 448))\n",
    "img_rgb = img[..., ::-1] / 255.0\n",
    "img_tensor = torch.tensor(img_rgb, dtype=torch.float32).permute(2, 0, 1).unsqueeze(0).to(device)\n",
    "\n",
    "with torch.no_grad():\n",
    "    pred = model(img_tensor)[0]  # shape: [S, S, C+B*5]\n",
    "    print(pred[0,0])"
   ]
  },
  {
   "cell_type": "code",
   "execution_count": 31,
   "id": "ed907105",
   "metadata": {},
   "outputs": [
    {
     "name": "stdout",
     "output_type": "stream",
     "text": [
      "C:\\Users\\Lucas\\Desktop\\vacantion classes\\Yolo project\\data\\Pascal_VOC\\train\\2011_002786_jpg.rf.d69099695917fc156367535e3e05c5ca.jpg\n",
      "[0.04952029 0.0495837  0.04845295 0.04922765 0.04915128 0.04866567\n",
      " 0.04818825 0.04877037 0.0498607  0.04894486 0.05584998 0.04878722\n",
      " 0.04863393 0.04872508 0.05027661 0.05466686 0.04976331 0.04969248\n",
      " 0.05443043 0.04880843]\n",
      "[0.0484092  0.05441841 0.05461612 0.0481525  0.0486705  0.04855382\n",
      " 0.04864991 0.04907081 0.0480144  0.04944605 0.04749207 0.04830261\n",
      " 0.0569487  0.04783904 0.04820745 0.05804725 0.04858441 0.04940245\n",
      " 0.04817442 0.04899993]\n",
      "[0.04942239 0.05516328 0.04935839 0.04955345 0.04879647 0.04895357\n",
      " 0.04857758 0.04906705 0.05004669 0.04909982 0.04741395 0.04894309\n",
      " 0.04922385 0.04952409 0.05487964 0.04891557 0.04869014 0.04953146\n",
      " 0.05536834 0.04947106]\n",
      "[0.04905301 0.0622039  0.04872221 0.04822597 0.04925796 0.05472119\n",
      " 0.04847424 0.05311945 0.04960485 0.04933281 0.04845456 0.04812172\n",
      " 0.04750478 0.04931068 0.04839828 0.04748798 0.04748728 0.04827752\n",
      " 0.05420909 0.04803244]\n",
      "[0.0482164  0.04901402 0.0490744  0.04870516 0.0482151  0.05425778\n",
      " 0.04955698 0.05744059 0.04839429 0.048811   0.05380451 0.04876698\n",
      " 0.04880491 0.04982992 0.04885836 0.04846666 0.05452319 0.04858837\n",
      " 0.04800025 0.04867123]\n",
      "[0.04675461 0.0759388  0.04855512 0.04983747 0.04904467 0.0501738\n",
      " 0.04906099 0.04993676 0.04819964 0.0475455  0.0479566  0.04783848\n",
      " 0.04843681 0.04861553 0.04788168 0.04877773 0.04885276 0.04891681\n",
      " 0.04889569 0.0487805 ]\n",
      "[0.04908653 0.07442576 0.04923987 0.04912189 0.04883324 0.04890003\n",
      " 0.04939507 0.04889109 0.04899937 0.04831316 0.04775234 0.04809827\n",
      " 0.04799199 0.04852121 0.04866115 0.04816526 0.04820409 0.04910456\n",
      " 0.04884015 0.04945489]\n",
      "[0.04762519 0.07174605 0.05421704 0.04762432 0.04654118 0.04949892\n",
      " 0.04764166 0.04845924 0.04780966 0.0481879  0.04818365 0.04704997\n",
      " 0.04712389 0.04778287 0.05588526 0.05405324 0.04792837 0.04782281\n",
      " 0.04781415 0.04700457]\n",
      "[0.03731473 0.2563634  0.04010002 0.03591116 0.04555894 0.04011925\n",
      " 0.03662445 0.03906588 0.03589695 0.03594604 0.0361283  0.04405887\n",
      " 0.03619465 0.0399575  0.03593173 0.05568004 0.03923783 0.03602916\n",
      " 0.03691657 0.03696448]\n",
      "[0.03657208 0.25108394 0.03695733 0.03604556 0.03996202 0.03737228\n",
      " 0.03658811 0.04958861 0.03696899 0.0412677  0.03755024 0.0373846\n",
      " 0.05508494 0.03716396 0.03748811 0.04409409 0.03726844 0.03794229\n",
      " 0.03771362 0.03590319]\n",
      "[0.04739505 0.1250477  0.04217832 0.05186167 0.07656844 0.04665305\n",
      " 0.0457646  0.0460528  0.04184572 0.0423714  0.04234448 0.04167382\n",
      " 0.04193598 0.04308866 0.04706534 0.04547841 0.04212386 0.04302873\n",
      " 0.04606135 0.04146065]\n",
      "[0.04329208 0.12371931 0.04534469 0.04312591 0.04415199 0.0442958\n",
      " 0.04437652 0.0537439  0.04396379 0.04326713 0.04287081 0.04354447\n",
      " 0.0443526  0.04409104 0.04400503 0.05410866 0.0438895  0.04442896\n",
      " 0.04369657 0.06573135]\n",
      "[0.03507792 0.31575158 0.03862211 0.03478951 0.0348164  0.03761376\n",
      " 0.03473667 0.03700126 0.03700093 0.03822466 0.03413585 0.03447983\n",
      " 0.03881655 0.03484149 0.03475513 0.03473049 0.03953136 0.03462692\n",
      " 0.03493258 0.03551514]\n",
      "[0.05238824 0.09567818 0.04600387 0.04703593 0.04580293 0.0454001\n",
      " 0.04614634 0.05160654 0.04514759 0.04681081 0.05010874 0.04594397\n",
      " 0.04715966 0.04705849 0.04669163 0.05186206 0.04536388 0.04654936\n",
      " 0.05174458 0.04549717]\n",
      "[0.03335546 0.37350094 0.0328906  0.03027968 0.03302824 0.03332638\n",
      " 0.03287766 0.0356454  0.03309374 0.03492585 0.03320612 0.03117186\n",
      " 0.037037   0.03179441 0.03234039 0.03569478 0.03153836 0.03083362\n",
      " 0.03208206 0.03137736]\n",
      "[0.03539569 0.2460715  0.03902677 0.03863211 0.04797211 0.03934915\n",
      " 0.03851051 0.03821451 0.03547478 0.04332003 0.03592679 0.03829277\n",
      " 0.06051254 0.0379586  0.03601561 0.04206887 0.03551771 0.03821028\n",
      " 0.03792536 0.03560436]\n",
      "[0.0285427  0.40283063 0.03264795 0.03020812 0.0318367  0.03262142\n",
      " 0.03212954 0.03108125 0.03023944 0.03083185 0.02807342 0.0283101\n",
      " 0.03592687 0.03048762 0.02798437 0.03516245 0.02889468 0.03499183\n",
      " 0.03659812 0.03060093]\n",
      "[0.03976272 0.40713233 0.03110074 0.03123954 0.03654901 0.02984022\n",
      " 0.02660911 0.02993941 0.02773318 0.03178866 0.02654951 0.03147201\n",
      " 0.03160322 0.02766854 0.02911883 0.03298878 0.03780288 0.02761342\n",
      " 0.03208632 0.03140163]\n",
      "[0.02618855 0.45700184 0.02776697 0.02817105 0.03388555 0.03109366\n",
      " 0.02616169 0.03402193 0.02596788 0.02643651 0.03003676 0.02598932\n",
      " 0.0297964  0.02618751 0.02565217 0.02775788 0.02753357 0.02737646\n",
      " 0.03097282 0.03200147]\n",
      "[0.03806725 0.16903505 0.03736063 0.0372276  0.04488177 0.04119706\n",
      " 0.04041832 0.04962007 0.04091383 0.03765525 0.03771605 0.04083858\n",
      " 0.04403627 0.03766654 0.04012965 0.09599628 0.03813267 0.04179876\n",
      " 0.05004772 0.03726057]\n",
      "[0.03392257 0.37997067 0.03190073 0.03139606 0.03707055 0.03138745\n",
      " 0.03122852 0.03466145 0.03090522 0.03195023 0.03082504 0.03091853\n",
      " 0.03584836 0.03112081 0.03320974 0.04002178 0.03077344 0.03124752\n",
      " 0.03104852 0.0305928 ]\n",
      "[0.03987959 0.15976717 0.04896672 0.03960621 0.04060259 0.04314472\n",
      " 0.0395374  0.05008757 0.0441651  0.04367578 0.03995068 0.04026394\n",
      " 0.06198039 0.0440901  0.04107896 0.04940514 0.03979762 0.04417886\n",
      " 0.04939306 0.04042844]\n",
      "[0.02650107 0.45296988 0.03467759 0.02590286 0.02664519 0.02771667\n",
      " 0.02549341 0.03248677 0.02897526 0.02685788 0.02923054 0.02823089\n",
      " 0.03142474 0.02516352 0.02744422 0.02799305 0.03240357 0.03545545\n",
      " 0.02627245 0.02815496]\n",
      "[0.02465528 0.41130415 0.02603567 0.04238241 0.02691085 0.02694704\n",
      " 0.02572618 0.03970155 0.03294022 0.02867172 0.02775249 0.02609614\n",
      " 0.0337955  0.024402   0.02734784 0.03177878 0.04106673 0.02552902\n",
      " 0.03287904 0.04407734]\n",
      "[0.05508452 0.3044581  0.03223281 0.03445961 0.02328189 0.02781168\n",
      " 0.02215748 0.03024503 0.02500874 0.03389486 0.03068323 0.0263474\n",
      " 0.03467236 0.02498231 0.02832622 0.04554228 0.07482171 0.03114762\n",
      " 0.02992029 0.08492198]\n",
      "[0.02471135 0.41818145 0.02876988 0.02878209 0.02487849 0.03134181\n",
      " 0.02555005 0.03500386 0.02825457 0.02740632 0.03075699 0.02458153\n",
      " 0.0389546  0.02734417 0.02870776 0.03196739 0.0514415  0.03090639\n",
      " 0.02729468 0.03516497]\n",
      "[0.02850855 0.39625937 0.02837886 0.0284612  0.02676934 0.02961116\n",
      " 0.02734857 0.03242544 0.03067595 0.03495802 0.02844069 0.03047936\n",
      " 0.05035022 0.02849176 0.02835158 0.03555721 0.03271867 0.03209223\n",
      " 0.03210941 0.03801243]\n",
      "[0.03179814 0.34262207 0.03386852 0.03081049 0.03405906 0.03495476\n",
      " 0.03143934 0.03418342 0.03276841 0.03423705 0.03497502 0.03162473\n",
      " 0.03321316 0.03232159 0.03585399 0.05488822 0.03042492 0.03591452\n",
      " 0.03831304 0.03172958]\n",
      "[0.03248202 0.29510608 0.03254603 0.03270886 0.03541104 0.03656375\n",
      " 0.0317642  0.03516267 0.03262584 0.03268291 0.03541294 0.03248851\n",
      " 0.079787   0.03477329 0.03258626 0.05101271 0.03252944 0.03593079\n",
      " 0.03601108 0.03241451]\n",
      "[0.02742894 0.41673562 0.02693699 0.03190709 0.02898712 0.04116819\n",
      " 0.02705695 0.03036845 0.0328408  0.02857249 0.02941913 0.03036518\n",
      " 0.03447401 0.03000395 0.03280526 0.02883537 0.0284028  0.02888645\n",
      " 0.02983154 0.03497363]\n",
      "[0.02672656 0.41914338 0.03429758 0.03207938 0.02752301 0.03555841\n",
      " 0.02705633 0.02717281 0.03183539 0.02907616 0.02701037 0.03432067\n",
      " 0.0334776  0.02552211 0.02832613 0.03358518 0.03770524 0.02906715\n",
      " 0.02805994 0.03245668]\n",
      "[0.03452251 0.31321117 0.03521375 0.03874623 0.02941851 0.03348735\n",
      " 0.03720675 0.03091029 0.03098553 0.03467313 0.03643    0.05636567\n",
      " 0.04282154 0.02997077 0.03151303 0.0505814  0.03271813 0.02643138\n",
      " 0.02916476 0.04562823]\n",
      "[0.02891596 0.44193232 0.02862213 0.02979896 0.02578558 0.02706815\n",
      " 0.02567116 0.02636869 0.02669629 0.02571806 0.02973259 0.02823162\n",
      " 0.03399227 0.02502986 0.02449268 0.02892002 0.05163003 0.02585514\n",
      " 0.02647701 0.03906149]\n",
      "[0.02539334 0.48890668 0.02443982 0.02410107 0.02692824 0.02587001\n",
      " 0.02476725 0.02800823 0.02398603 0.02567603 0.02550854 0.02764042\n",
      " 0.04504183 0.02612626 0.02437179 0.03212799 0.02568454 0.02428604\n",
      " 0.02549777 0.02563827]\n",
      "[0.02891284 0.44507694 0.02741383 0.02683205 0.02813939 0.02757049\n",
      " 0.02722116 0.03366368 0.02729517 0.03479629 0.02701931 0.02886417\n",
      " 0.03582161 0.02734284 0.0269498  0.03537281 0.02733927 0.02645182\n",
      " 0.03081049 0.02710606]\n",
      "[0.03883845 0.10620009 0.0390955  0.03956114 0.03862599 0.04240555\n",
      " 0.04242884 0.05184867 0.03863719 0.03836531 0.04275264 0.04714216\n",
      " 0.1308245  0.03871419 0.04190242 0.06278697 0.03917016 0.03983779\n",
      " 0.04232145 0.03854097]\n",
      "[0.03449631 0.23154959 0.03461388 0.03389294 0.03400184 0.03714047\n",
      " 0.03609584 0.03659887 0.03447647 0.0367125  0.0365515  0.03627902\n",
      " 0.12077826 0.0340918  0.03706085 0.04786948 0.03391798 0.033691\n",
      " 0.03334001 0.03684147]\n",
      "[0.03187056 0.17120738 0.036654   0.03204665 0.03182275 0.03468605\n",
      " 0.04464533 0.03652865 0.03159142 0.03182299 0.03405049 0.03781157\n",
      " 0.19905849 0.03097318 0.04108331 0.04153422 0.03137041 0.03169857\n",
      " 0.03482632 0.03471772]\n",
      "[0.03061967 0.33581015 0.03044786 0.03245185 0.03022983 0.03469421\n",
      " 0.04764806 0.03715596 0.03277112 0.03065089 0.03234897 0.03293367\n",
      " 0.06289798 0.03048192 0.03976038 0.03336008 0.03060094 0.03068761\n",
      " 0.03297663 0.0314721 ]\n",
      "[0.03474431 0.25608724 0.04176091 0.03428661 0.03483032 0.04219981\n",
      " 0.04448364 0.03903848 0.03555422 0.0377341  0.03492036 0.03865274\n",
      " 0.05332064 0.03589259 0.05342263 0.03562077 0.03873126 0.03590163\n",
      " 0.03476899 0.03804874]\n",
      "[0.03539662 0.31526917 0.03149876 0.03159125 0.03091845 0.0370649\n",
      " 0.03469956 0.03363643 0.03255258 0.03100145 0.03383769 0.04106125\n",
      " 0.0757721  0.03358059 0.03745836 0.03189451 0.03174968 0.03127877\n",
      " 0.03759253 0.03214538]\n",
      "[0.04156085 0.15159059 0.0414713  0.04560335 0.04154832 0.04951977\n",
      " 0.04151118 0.04183839 0.0408274  0.04093835 0.04558089 0.04446067\n",
      " 0.06828251 0.04109405 0.04561985 0.05401045 0.04112535 0.04163351\n",
      " 0.04057396 0.0412093 ]\n",
      "[0.04756306 0.0527279  0.04748611 0.05378799 0.04740826 0.04667611\n",
      " 0.04737139 0.04780895 0.04729767 0.04727722 0.05477627 0.04887603\n",
      " 0.07984577 0.04784178 0.04655615 0.04822743 0.0474958  0.04654416\n",
      " 0.0471721  0.04725983]\n",
      "[0.04781001 0.05401032 0.04839411 0.04775769 0.0484071  0.04774742\n",
      " 0.04836533 0.05532024 0.04792337 0.04761286 0.04623728 0.0482406\n",
      " 0.07738467 0.04841594 0.04749882 0.04780421 0.04795821 0.04795197\n",
      " 0.047989   0.04717087]\n",
      "[0.04787068 0.04840938 0.05497278 0.0476537  0.054589   0.04785576\n",
      " 0.04811798 0.05314263 0.05412237 0.04761966 0.04808818 0.0480403\n",
      " 0.06327998 0.04761313 0.04807985 0.04755029 0.04834856 0.04849878\n",
      " 0.04737558 0.04877136]\n",
      "[0.04674348 0.0530054  0.04638393 0.04723494 0.04701842 0.04630649\n",
      " 0.06973765 0.0572654  0.04703723 0.04605474 0.04684308 0.04699953\n",
      " 0.05311386 0.04688689 0.06581543 0.04689387 0.0471416  0.0476392\n",
      " 0.04544856 0.04643026]\n",
      "[0.04767058 0.05445466 0.04817852 0.04824045 0.0481708  0.04830353\n",
      " 0.04880785 0.07035659 0.0470248  0.04755242 0.04820463 0.04732303\n",
      " 0.05508795 0.04846326 0.04710479 0.04672187 0.04853581 0.04865329\n",
      " 0.05239188 0.04875326]\n",
      "[0.04839985 0.04842455 0.04796259 0.04771145 0.05331932 0.04754546\n",
      " 0.04790414 0.05440306 0.04788769 0.04927688 0.04831604 0.05434555\n",
      " 0.06161137 0.04847635 0.04842817 0.05480939 0.04884204 0.04779606\n",
      " 0.0474009  0.04713908]\n",
      "[0.0471703  0.06321298 0.04896189 0.04872234 0.0487688  0.05239883\n",
      " 0.04751563 0.05313996 0.04770751 0.04716504 0.0473352  0.05217795\n",
      " 0.05151122 0.04761277 0.04780262 0.05462712 0.04846733 0.04718092\n",
      " 0.05181828 0.04670324]\n"
     ]
    }
   ],
   "source": [
    "img_path = X_train[0]\n",
    "print(img_path)\n",
    "my_visual = YOLO_visual(S=S, B=B, C=C, classes=my_CNN.classes)\n",
    "\n",
    "my_visual.Yolo_visualize(loaded_model,img_path,device=\"cuda\",score_threshold=0.03)"
   ]
  },
  {
   "cell_type": "code",
   "execution_count": 16,
   "id": "11e6e2a8",
   "metadata": {},
   "outputs": [
    {
     "data": {
      "text/plain": [
       "tensor([1.0000, 0.1990, 0.5110, 0.6180, 0.9969, 0.0000, 0.0000, 0.0000, 0.0000,\n",
       "        0.0000, 0.0000, 0.0000, 0.0000, 0.0000, 0.0000, 1.0000, 0.0000, 0.0000,\n",
       "        0.0000, 0.0000, 0.0000, 0.0000, 0.0000, 0.0000, 0.0000])"
      ]
     },
     "execution_count": 16,
     "metadata": {},
     "output_type": "execute_result"
    }
   ],
   "source": [
    "y_train[0][3][3]"
   ]
  },
  {
   "cell_type": "code",
   "execution_count": 17,
   "id": "ba032a24",
   "metadata": {},
   "outputs": [],
   "source": [
    "img_path = X_train[0]\n",
    "img = cv2.imread(img_path)\n",
    "img = cv2.resize(img, (448, 448))\n",
    "img_rgb = img[..., ::-1] / 255.0\n",
    "img_tensor = torch.tensor(img_rgb, dtype=torch.float32).permute(2, 0, 1).unsqueeze(0).to(device)"
   ]
  },
  {
   "cell_type": "code",
   "execution_count": 18,
   "id": "6c6b47c2",
   "metadata": {},
   "outputs": [
    {
     "data": {
      "text/plain": [
       "tensor([[ 0.0111,  0.0098, -0.0047,  0.0067,  0.0030,  0.0104, -0.0002,  0.0100,\n",
       "          0.0118,  0.0143, -0.0162, -0.0065,  0.0088, -0.0187, -0.0124,  0.0005,\n",
       "          0.0017, -0.0113, -0.0066,  0.0017, -0.0103, -0.0088,  0.0100,  0.0144,\n",
       "         -0.0058, -0.0009, -0.0081,  0.0121, -0.0150,  0.0122]],\n",
       "       device='cuda:0', grad_fn=<SelectBackward0>)"
      ]
     },
     "execution_count": 18,
     "metadata": {},
     "output_type": "execute_result"
    }
   ],
   "source": [
    "predict = model(img_tensor)\n",
    "predict[:,3,3]"
   ]
  }
 ],
 "metadata": {
  "kernelspec": {
   "display_name": "Python 3",
   "language": "python",
   "name": "python3"
  },
  "language_info": {
   "codemirror_mode": {
    "name": "ipython",
    "version": 3
   },
   "file_extension": ".py",
   "mimetype": "text/x-python",
   "name": "python",
   "nbconvert_exporter": "python",
   "pygments_lexer": "ipython3",
   "version": "3.9.13"
  }
 },
 "nbformat": 4,
 "nbformat_minor": 5
}
